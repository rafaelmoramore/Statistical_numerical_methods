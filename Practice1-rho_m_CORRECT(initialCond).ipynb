{
 "cells": [
  {
   "cell_type": "markdown",
   "id": "a8dea919",
   "metadata": {},
   "source": [
    "# Practice 1\n",
    "\n",
    "## Course \"Métodos Estadísticos y Numéricos en Cosmología\"\n",
    "\n",
    "##### Rafael Morales Moreno, Maestría en Ciencias (Física), UNAM\n",
    "\n",
    "## 1. Exercise: Generate distances"
   ]
  },
  {
   "cell_type": "markdown",
   "id": "f6d1cc21",
   "metadata": {},
   "source": [
    "Do a code which calculate the **comoving distance**, the **angular distance** and the **luminosity distance** for the following cosmology:\n",
    "\n",
    "$$\n",
    "    \\Omega_{m,0}=0.3,\n",
    "$$\n",
    "\n",
    "$$\n",
    "    \\Omega_{\\Lambda,0}=0.7.\n",
    "$$\n",
    "\n",
    "Do a **plot** with the 3 distances, expressed in **Gpc/h** up to a redshift of **z=3**."
   ]
  },
  {
   "cell_type": "code",
   "execution_count": 1,
   "id": "7b766531",
   "metadata": {},
   "outputs": [],
   "source": [
    "import numpy as np\n",
    "import scipy as sp\n",
    "import matplotlib.pyplot as plt\n",
    "import math"
   ]
  },
  {
   "cell_type": "code",
   "execution_count": 2,
   "id": "aa2ef3a1",
   "metadata": {},
   "outputs": [],
   "source": [
    "# Start specifying Cosmology\n",
    "\n",
    "Omega_m0 = 0.3\n",
    "Omega_lambda0 = 0.7\n",
    "# i.e., Omega_r0 = 0.0 (no radiation contribution)\n",
    "\n",
    "\n",
    "# one can take approx.\n",
    "H_0 = 1/2.9979246 # in units of h/Gpc (normally one defines H_0=1/2997.9246 in h/Mpc)"
   ]
  },
  {
   "cell_type": "markdown",
   "id": "f71456e7",
   "metadata": {},
   "source": [
    "Introducing the expressions of distance in Cosmology:\n",
    "\n",
    "1. Comoving radial distance\n",
    "\n",
    "$$\n",
    "    \\chi(z) = \\int_0^z \\frac{dz'}{H(z')}, \n",
    "$$\n",
    "\n",
    "2. Angular distance\n",
    "$$\n",
    "    D_A(z) = \\frac{\\chi(z)}{1+z}, \n",
    "$$\n",
    "\n",
    "3. Luminosity distance\n",
    "$$\n",
    "    D_L(z) = (1+z)\\chi(z), \n",
    "$$\n",
    "\n",
    "where we have taken implicitly c=1 and the Hubble as function of z depends on Cosmology as\n",
    "\n",
    "$$\n",
    "    H(z) =H_0 \\sqrt{\\Omega_{m,0}(1+z)^3 +\\Omega_{R,0}(1+z)^4 +\\Omega_{\\Lambda,0}}\n",
    "$$"
   ]
  },
  {
   "cell_type": "code",
   "execution_count": 3,
   "id": "b1ff0984",
   "metadata": {},
   "outputs": [],
   "source": [
    "#def integrand_chi(z):\n",
    "#    return 1/H_0 * 1/math.sqrt(Omega_m0*(1+z)**3 + Omega_lambda0)"
   ]
  },
  {
   "cell_type": "code",
   "execution_count": 4,
   "id": "13ff8ead",
   "metadata": {},
   "outputs": [],
   "source": [
    "# # Defining functions using symbolic integration\n",
    "\n",
    "from sympy import integrate, Symbol\n",
    "import sympy\n",
    "\n",
    "z=Symbol('z')          # we need to define z as a symbol bc is an arbitrary value\n",
    "                       # of redshift and is not the integration variable (z \\ineq z')\n",
    "\n",
    "from sympy.abc import z\n",
    "\n",
    "# defining the expression H(z) (Friedmann form in terms of abundances Omega) \n",
    "H_Friedmann = lambda z:H_0*sympy.sqrt(Omega_m0*(1+z)**3 + Omega_lambda0)\n",
    "\n",
    "zp=Symbol('zp') # zp stands for z' (z prime)\n",
    "\n",
    "integrand_chi = 1/(H_Friedmann(zp))\n",
    "chi = lambda z:integrate(integrand_chi, (zp, 0, z))"
   ]
  },
  {
   "cell_type": "code",
   "execution_count": 5,
   "id": "cb885e13",
   "metadata": {},
   "outputs": [
    {
     "name": "stdout",
     "output_type": "stream",
     "text": [
      "Then, the Comoving Radial Distance of a redshift z is the integrated value given by\n"
     ]
    },
    {
     "data": {
      "text/latex": [
       "$\\displaystyle \\frac{1.19440175018246 \\left(z + 1\\right) \\Gamma\\left(\\frac{1}{3}\\right) {{}_{2}F_{1}\\left(\\begin{matrix} \\frac{1}{3}, \\frac{1}{2} \\\\ \\frac{4}{3} \\end{matrix}\\middle| {0.428571428571429 \\left(z + 1\\right)^{3} e^{i \\pi}} \\right)}}{\\Gamma\\left(\\frac{4}{3}\\right)} - \\frac{1.19440175018246 \\Gamma\\left(\\frac{1}{3}\\right) {{}_{2}F_{1}\\left(\\begin{matrix} \\frac{1}{3}, \\frac{1}{2} \\\\ \\frac{4}{3} \\end{matrix}\\middle| {-0.428571428571429} \\right)}}{\\Gamma\\left(\\frac{4}{3}\\right)}$"
      ],
      "text/plain": [
       "1.19440175018246*(z + 1)*gamma(1/3)*hyper((1/3, 1/2), (4/3,), 0.428571428571429*(z + 1)**3*exp_polar(I*pi))/gamma(4/3) - 1.19440175018246*gamma(1/3)*hyper((1/3, 1/2), (4/3,), -0.428571428571429)/gamma(4/3)"
      ]
     },
     "execution_count": 5,
     "metadata": {},
     "output_type": "execute_result"
    }
   ],
   "source": [
    "print('Then, the Comoving Radial Distance of a redshift z is the integrated value given by')\n",
    "chi(z)                       # Hypergeometric2F1[1/3, 1/2, 4/3, -a(1 + z)^3/b]"
   ]
  },
  {
   "cell_type": "markdown",
   "id": "c307599d",
   "metadata": {},
   "source": [
    "### Making neccesary steps to plot $\\chi(z)$ and its associated distances"
   ]
  },
  {
   "cell_type": "code",
   "execution_count": 6,
   "id": "4a10a755",
   "metadata": {
    "collapsed": true
   },
   "outputs": [
    {
     "data": {
      "text/plain": [
       "array([0.        , 0.01003344, 0.02006689, 0.03010033, 0.04013378,\n",
       "       0.05016722, 0.06020067, 0.07023411, 0.08026756, 0.090301  ,\n",
       "       0.10033445, 0.11036789, 0.12040134, 0.13043478, 0.14046823,\n",
       "       0.15050167, 0.16053512, 0.17056856, 0.18060201, 0.19063545,\n",
       "       0.2006689 , 0.21070234, 0.22073579, 0.23076923, 0.24080268,\n",
       "       0.25083612, 0.26086957, 0.27090301, 0.28093645, 0.2909699 ,\n",
       "       0.30100334, 0.31103679, 0.32107023, 0.33110368, 0.34113712,\n",
       "       0.35117057, 0.36120401, 0.37123746, 0.3812709 , 0.39130435,\n",
       "       0.40133779, 0.41137124, 0.42140468, 0.43143813, 0.44147157,\n",
       "       0.45150502, 0.46153846, 0.47157191, 0.48160535, 0.4916388 ,\n",
       "       0.50167224, 0.51170569, 0.52173913, 0.53177258, 0.54180602,\n",
       "       0.55183946, 0.56187291, 0.57190635, 0.5819398 , 0.59197324,\n",
       "       0.60200669, 0.61204013, 0.62207358, 0.63210702, 0.64214047,\n",
       "       0.65217391, 0.66220736, 0.6722408 , 0.68227425, 0.69230769,\n",
       "       0.70234114, 0.71237458, 0.72240803, 0.73244147, 0.74247492,\n",
       "       0.75250836, 0.76254181, 0.77257525, 0.7826087 , 0.79264214,\n",
       "       0.80267559, 0.81270903, 0.82274247, 0.83277592, 0.84280936,\n",
       "       0.85284281, 0.86287625, 0.8729097 , 0.88294314, 0.89297659,\n",
       "       0.90301003, 0.91304348, 0.92307692, 0.93311037, 0.94314381,\n",
       "       0.95317726, 0.9632107 , 0.97324415, 0.98327759, 0.99331104,\n",
       "       1.00334448, 1.01337793, 1.02341137, 1.03344482, 1.04347826,\n",
       "       1.05351171, 1.06354515, 1.0735786 , 1.08361204, 1.09364548,\n",
       "       1.10367893, 1.11371237, 1.12374582, 1.13377926, 1.14381271,\n",
       "       1.15384615, 1.1638796 , 1.17391304, 1.18394649, 1.19397993,\n",
       "       1.20401338, 1.21404682, 1.22408027, 1.23411371, 1.24414716,\n",
       "       1.2541806 , 1.26421405, 1.27424749, 1.28428094, 1.29431438,\n",
       "       1.30434783, 1.31438127, 1.32441472, 1.33444816, 1.34448161,\n",
       "       1.35451505, 1.36454849, 1.37458194, 1.38461538, 1.39464883,\n",
       "       1.40468227, 1.41471572, 1.42474916, 1.43478261, 1.44481605,\n",
       "       1.4548495 , 1.46488294, 1.47491639, 1.48494983, 1.49498328,\n",
       "       1.50501672, 1.51505017, 1.52508361, 1.53511706, 1.5451505 ,\n",
       "       1.55518395, 1.56521739, 1.57525084, 1.58528428, 1.59531773,\n",
       "       1.60535117, 1.61538462, 1.62541806, 1.63545151, 1.64548495,\n",
       "       1.65551839, 1.66555184, 1.67558528, 1.68561873, 1.69565217,\n",
       "       1.70568562, 1.71571906, 1.72575251, 1.73578595, 1.7458194 ,\n",
       "       1.75585284, 1.76588629, 1.77591973, 1.78595318, 1.79598662,\n",
       "       1.80602007, 1.81605351, 1.82608696, 1.8361204 , 1.84615385,\n",
       "       1.85618729, 1.86622074, 1.87625418, 1.88628763, 1.89632107,\n",
       "       1.90635452, 1.91638796, 1.9264214 , 1.93645485, 1.94648829,\n",
       "       1.95652174, 1.96655518, 1.97658863, 1.98662207, 1.99665552,\n",
       "       2.00668896, 2.01672241, 2.02675585, 2.0367893 , 2.04682274,\n",
       "       2.05685619, 2.06688963, 2.07692308, 2.08695652, 2.09698997,\n",
       "       2.10702341, 2.11705686, 2.1270903 , 2.13712375, 2.14715719,\n",
       "       2.15719064, 2.16722408, 2.17725753, 2.18729097, 2.19732441,\n",
       "       2.20735786, 2.2173913 , 2.22742475, 2.23745819, 2.24749164,\n",
       "       2.25752508, 2.26755853, 2.27759197, 2.28762542, 2.29765886,\n",
       "       2.30769231, 2.31772575, 2.3277592 , 2.33779264, 2.34782609,\n",
       "       2.35785953, 2.36789298, 2.37792642, 2.38795987, 2.39799331,\n",
       "       2.40802676, 2.4180602 , 2.42809365, 2.43812709, 2.44816054,\n",
       "       2.45819398, 2.46822742, 2.47826087, 2.48829431, 2.49832776,\n",
       "       2.5083612 , 2.51839465, 2.52842809, 2.53846154, 2.54849498,\n",
       "       2.55852843, 2.56856187, 2.57859532, 2.58862876, 2.59866221,\n",
       "       2.60869565, 2.6187291 , 2.62876254, 2.63879599, 2.64882943,\n",
       "       2.65886288, 2.66889632, 2.67892977, 2.68896321, 2.69899666,\n",
       "       2.7090301 , 2.71906355, 2.72909699, 2.73913043, 2.74916388,\n",
       "       2.75919732, 2.76923077, 2.77926421, 2.78929766, 2.7993311 ,\n",
       "       2.80936455, 2.81939799, 2.82943144, 2.83946488, 2.84949833,\n",
       "       2.85953177, 2.86956522, 2.87959866, 2.88963211, 2.89966555,\n",
       "       2.909699  , 2.91973244, 2.92976589, 2.93979933, 2.94983278,\n",
       "       2.95986622, 2.96989967, 2.97993311, 2.98996656, 3.        ])"
      ]
     },
     "execution_count": 6,
     "metadata": {},
     "output_type": "execute_result"
    }
   ],
   "source": [
    "# Creating a table of values of z from 0 to 3\n",
    "\n",
    "zT = np.linspace(0,3, 300, endpoint= True) # z Table from z=0 (today) to z=3\n",
    "zT"
   ]
  },
  {
   "cell_type": "code",
   "execution_count": 7,
   "id": "3231b67e",
   "metadata": {},
   "outputs": [],
   "source": [
    "#array of chi(z) values\n",
    "y = np.zeros(zT.shape[0]) #  corresponds to the values of chi evaluated in zT[i]\n",
    "\n",
    "for i in range(zT.shape[0]): # filling from de first to the i-th term (length of zT list)\n",
    "    y[i] = chi(zT[i])\n",
    "    \n",
    "# *** THIS MIGHT TAKE A WHILE DEPENDING ON THE COMPUTARIONAL POWER (~ 1 or 2 mins.)"
   ]
  },
  {
   "cell_type": "code",
   "execution_count": 8,
   "id": "7e66baa5",
   "metadata": {
    "collapsed": true
   },
   "outputs": [
    {
     "data": {
      "text/plain": [
       "array([[0.        , 0.        ],\n",
       "       [0.01003344, 0.03001146],\n",
       "       [0.02006689, 0.05988625],\n",
       "       [0.03010033, 0.08962354],\n",
       "       [0.04013378, 0.11922256],\n",
       "       [0.05016722, 0.14868256],\n",
       "       [0.06020067, 0.17800285],\n",
       "       [0.07023411, 0.20718277],\n",
       "       [0.08026756, 0.2362217 ],\n",
       "       [0.090301  , 0.26511908],\n",
       "       [0.10033445, 0.29387436],\n",
       "       [0.11036789, 0.32248705],\n",
       "       [0.12040134, 0.3509567 ],\n",
       "       [0.13043478, 0.37928289],\n",
       "       [0.14046823, 0.40746526],\n",
       "       [0.15050167, 0.43550345],\n",
       "       [0.16053512, 0.46339717],\n",
       "       [0.17056856, 0.49114616],\n",
       "       [0.18060201, 0.51875019],\n",
       "       [0.19063545, 0.54620907],\n",
       "       [0.2006689 , 0.57352265],\n",
       "       [0.21070234, 0.60069082],\n",
       "       [0.22073579, 0.62771348],\n",
       "       [0.23076923, 0.65459058],\n",
       "       [0.24080268, 0.68132211],\n",
       "       [0.25083612, 0.70790809],\n",
       "       [0.26086957, 0.73434855],\n",
       "       [0.27090301, 0.76064357],\n",
       "       [0.28093645, 0.78679326],\n",
       "       [0.2909699 , 0.81279777],\n",
       "       [0.30100334, 0.83865724],\n",
       "       [0.31103679, 0.86437188],\n",
       "       [0.32107023, 0.8899419 ],\n",
       "       [0.33110368, 0.91536756],\n",
       "       [0.34113712, 0.94064911],\n",
       "       [0.35117057, 0.96578687],\n",
       "       [0.36120401, 0.99078115],\n",
       "       [0.37123746, 1.01563229],\n",
       "       [0.3812709 , 1.04034067],\n",
       "       [0.39130435, 1.06490666],\n",
       "       [0.40133779, 1.08933069],\n",
       "       [0.41137124, 1.11361319],\n",
       "       [0.42140468, 1.13775459],\n",
       "       [0.43143813, 1.16175539],\n",
       "       [0.44147157, 1.18561605],\n",
       "       [0.45150502, 1.20933709],\n",
       "       [0.46153846, 1.23291903],\n",
       "       [0.47157191, 1.25636241],\n",
       "       [0.48160535, 1.27966779],\n",
       "       [0.4916388 , 1.30283573],\n",
       "       [0.50167224, 1.32586682],\n",
       "       [0.51170569, 1.34876166],\n",
       "       [0.52173913, 1.37152086],\n",
       "       [0.53177258, 1.39414503],\n",
       "       [0.54180602, 1.41663483],\n",
       "       [0.55183946, 1.43899089],\n",
       "       [0.56187291, 1.46121387],\n",
       "       [0.57190635, 1.48330444],\n",
       "       [0.5819398 , 1.50526327],\n",
       "       [0.59197324, 1.52709106],\n",
       "       [0.60200669, 1.5487885 ],\n",
       "       [0.61204013, 1.57035629],\n",
       "       [0.62207358, 1.59179514],\n",
       "       [0.63210702, 1.61310578],\n",
       "       [0.64214047, 1.63428891],\n",
       "       [0.65217391, 1.65534528],\n",
       "       [0.66220736, 1.67627563],\n",
       "       [0.6722408 , 1.69708068],\n",
       "       [0.68227425, 1.7177612 ],\n",
       "       [0.69230769, 1.73831792],\n",
       "       [0.70234114, 1.75875162],\n",
       "       [0.71237458, 1.77906303],\n",
       "       [0.72240803, 1.79925293],\n",
       "       [0.73244147, 1.81932208],\n",
       "       [0.74247492, 1.83927125],\n",
       "       [0.75250836, 1.85910121],\n",
       "       [0.76254181, 1.87881273],\n",
       "       [0.77257525, 1.89840658],\n",
       "       [0.7826087 , 1.91788353],\n",
       "       [0.79264214, 1.93724437],\n",
       "       [0.80267559, 1.95648987],\n",
       "       [0.81270903, 1.9756208 ],\n",
       "       [0.82274247, 1.99463794],\n",
       "       [0.83277592, 2.01354208],\n",
       "       [0.84280936, 2.03233398],\n",
       "       [0.85284281, 2.05101442],\n",
       "       [0.86287625, 2.06958417],\n",
       "       [0.8729097 , 2.08804402],\n",
       "       [0.88294314, 2.10639472],\n",
       "       [0.89297659, 2.12463707],\n",
       "       [0.90301003, 2.14277181],\n",
       "       [0.91304348, 2.16079973],\n",
       "       [0.92307692, 2.17872158],\n",
       "       [0.93311037, 2.19653814],\n",
       "       [0.94314381, 2.21425016],\n",
       "       [0.95317726, 2.2318584 ],\n",
       "       [0.9632107 , 2.24936362],\n",
       "       [0.97324415, 2.26676658],\n",
       "       [0.98327759, 2.28406801],\n",
       "       [0.99331104, 2.30126868],\n",
       "       [1.00334448, 2.31836933],\n",
       "       [1.01337793, 2.33537069],\n",
       "       [1.02341137, 2.3522735 ],\n",
       "       [1.03344482, 2.36907851],\n",
       "       [1.04347826, 2.38578644],\n",
       "       [1.05351171, 2.40239801],\n",
       "       [1.06354515, 2.41891396],\n",
       "       [1.0735786 , 2.435335  ],\n",
       "       [1.08361204, 2.45166185],\n",
       "       [1.09364548, 2.46789522],\n",
       "       [1.10367893, 2.48403581],\n",
       "       [1.11371237, 2.50008434],\n",
       "       [1.12374582, 2.5160415 ],\n",
       "       [1.13377926, 2.53190799],\n",
       "       [1.14381271, 2.54768449],\n",
       "       [1.15384615, 2.5633717 ],\n",
       "       [1.1638796 , 2.5789703 ],\n",
       "       [1.17391304, 2.59448096],\n",
       "       [1.18394649, 2.60990436],\n",
       "       [1.19397993, 2.62524117],\n",
       "       [1.20401338, 2.64049205],\n",
       "       [1.21404682, 2.65565767],\n",
       "       [1.22408027, 2.67073868],\n",
       "       [1.23411371, 2.68573572],\n",
       "       [1.24414716, 2.70064945],\n",
       "       [1.2541806 , 2.71548051],\n",
       "       [1.26421405, 2.73022954],\n",
       "       [1.27424749, 2.74489716],\n",
       "       [1.28428094, 2.759484  ],\n",
       "       [1.29431438, 2.7739907 ],\n",
       "       [1.30434783, 2.78841786],\n",
       "       [1.31438127, 2.8027661 ],\n",
       "       [1.32441472, 2.81703604],\n",
       "       [1.33444816, 2.83122826],\n",
       "       [1.34448161, 2.84534338],\n",
       "       [1.35451505, 2.85938199],\n",
       "       [1.36454849, 2.87334468],\n",
       "       [1.37458194, 2.88723203],\n",
       "       [1.38461538, 2.90104463],\n",
       "       [1.39464883, 2.91478305],\n",
       "       [1.40468227, 2.92844786],\n",
       "       [1.41471572, 2.94203964],\n",
       "       [1.42474916, 2.95555893],\n",
       "       [1.43478261, 2.96900631],\n",
       "       [1.44481605, 2.98238233],\n",
       "       [1.4548495 , 2.99568753],\n",
       "       [1.46488294, 3.00892246],\n",
       "       [1.47491639, 3.02208765],\n",
       "       [1.48494983, 3.03518365],\n",
       "       [1.49498328, 3.04821098],\n",
       "       [1.50501672, 3.06117017],\n",
       "       [1.51505017, 3.07406174],\n",
       "       [1.52508361, 3.08688621],\n",
       "       [1.53511706, 3.09964409],\n",
       "       [1.5451505 , 3.11233589],\n",
       "       [1.55518395, 3.12496212],\n",
       "       [1.56521739, 3.13752327],\n",
       "       [1.57525084, 3.15001984],\n",
       "       [1.58528428, 3.16245232],\n",
       "       [1.59531773, 3.17482121],\n",
       "       [1.60535117, 3.18712697],\n",
       "       [1.61538462, 3.19937009],\n",
       "       [1.62541806, 3.21155105],\n",
       "       [1.63545151, 3.22367031],\n",
       "       [1.64548495, 3.23572834],\n",
       "       [1.65551839, 3.2477256 ],\n",
       "       [1.66555184, 3.25966256],\n",
       "       [1.67558528, 3.27153966],\n",
       "       [1.68561873, 3.28335736],\n",
       "       [1.69565217, 3.29511609],\n",
       "       [1.70568562, 3.30681631],\n",
       "       [1.71571906, 3.31845846],\n",
       "       [1.72575251, 3.33004296],\n",
       "       [1.73578595, 3.34157024],\n",
       "       [1.7458194 , 3.35304074],\n",
       "       [1.75585284, 3.36445487],\n",
       "       [1.76588629, 3.37581306],\n",
       "       [1.77591973, 3.38711572],\n",
       "       [1.78595318, 3.39836326],\n",
       "       [1.79598662, 3.4095561 ],\n",
       "       [1.80602007, 3.42069462],\n",
       "       [1.81605351, 3.43177925],\n",
       "       [1.82608696, 3.44281036],\n",
       "       [1.8361204 , 3.45378837],\n",
       "       [1.84615385, 3.46471364],\n",
       "       [1.85618729, 3.47558659],\n",
       "       [1.86622074, 3.48640758],\n",
       "       [1.87625418, 3.49717699],\n",
       "       [1.88628763, 3.50789521],\n",
       "       [1.89632107, 3.5185626 ],\n",
       "       [1.90635452, 3.52917954],\n",
       "       [1.91638796, 3.5397464 ],\n",
       "       [1.9264214 , 3.55026352],\n",
       "       [1.93645485, 3.56073128],\n",
       "       [1.94648829, 3.57115004],\n",
       "       [1.95652174, 3.58152014],\n",
       "       [1.96655518, 3.59184193],\n",
       "       [1.97658863, 3.60211577],\n",
       "       [1.98662207, 3.61234199],\n",
       "       [1.99665552, 3.62252094],\n",
       "       [2.00668896, 3.63265296],\n",
       "       [2.01672241, 3.64273837],\n",
       "       [2.02675585, 3.65277752],\n",
       "       [2.0367893 , 3.66277073],\n",
       "       [2.04682274, 3.67271833],\n",
       "       [2.05685619, 3.68262064],\n",
       "       [2.06688963, 3.69247798],\n",
       "       [2.07692308, 3.70229066],\n",
       "       [2.08695652, 3.71205902],\n",
       "       [2.09698997, 3.72178334],\n",
       "       [2.10702341, 3.73146395],\n",
       "       [2.11705686, 3.74110115],\n",
       "       [2.1270903 , 3.75069524],\n",
       "       [2.13712375, 3.76024653],\n",
       "       [2.14715719, 3.76975531],\n",
       "       [2.15719064, 3.77922188],\n",
       "       [2.16722408, 3.78864653],\n",
       "       [2.17725753, 3.79802955],\n",
       "       [2.18729097, 3.80737123],\n",
       "       [2.19732441, 3.81667186],\n",
       "       [2.20735786, 3.82593171],\n",
       "       [2.2173913 , 3.83515107],\n",
       "       [2.22742475, 3.84433022],\n",
       "       [2.23745819, 3.85346943],\n",
       "       [2.24749164, 3.86256897],\n",
       "       [2.25752508, 3.87162911],\n",
       "       [2.26755853, 3.88065013],\n",
       "       [2.27759197, 3.88963229],\n",
       "       [2.28762542, 3.89857584],\n",
       "       [2.29765886, 3.90748107],\n",
       "       [2.30769231, 3.91634821],\n",
       "       [2.31772575, 3.92517753],\n",
       "       [2.3277592 , 3.93396929],\n",
       "       [2.33779264, 3.94272373],\n",
       "       [2.34782609, 3.9514411 ],\n",
       "       [2.35785953, 3.96012166],\n",
       "       [2.36789298, 3.96876565],\n",
       "       [2.37792642, 3.97737331],\n",
       "       [2.38795987, 3.98594489],\n",
       "       [2.39799331, 3.99448061],\n",
       "       [2.40802676, 4.00298073],\n",
       "       [2.4180602 , 4.01144548],\n",
       "       [2.42809365, 4.01987508],\n",
       "       [2.43812709, 4.02826978],\n",
       "       [2.44816054, 4.03662979],\n",
       "       [2.45819398, 4.04495535],\n",
       "       [2.46822742, 4.05324668],\n",
       "       [2.47826087, 4.06150401],\n",
       "       [2.48829431, 4.06972756],\n",
       "       [2.49832776, 4.07791755],\n",
       "       [2.5083612 , 4.08607419],\n",
       "       [2.51839465, 4.09419769],\n",
       "       [2.52842809, 4.10228829],\n",
       "       [2.53846154, 4.11034618],\n",
       "       [2.54849498, 4.11837158],\n",
       "       [2.55852843, 4.1263647 ],\n",
       "       [2.56856187, 4.13432574],\n",
       "       [2.57859532, 4.1422549 ],\n",
       "       [2.58862876, 4.1501524 ],\n",
       "       [2.59866221, 4.15801844],\n",
       "       [2.60869565, 4.1658532 ],\n",
       "       [2.6187291 , 4.1736569 ],\n",
       "       [2.62876254, 4.18142973],\n",
       "       [2.63879599, 4.18917188],\n",
       "       [2.64882943, 4.19688355],\n",
       "       [2.65886288, 4.20456493],\n",
       "       [2.66889632, 4.21221621],\n",
       "       [2.67892977, 4.21983758],\n",
       "       [2.68896321, 4.22742922],\n",
       "       [2.69899666, 4.23499133],\n",
       "       [2.7090301 , 4.24252407],\n",
       "       [2.71906355, 4.25002765],\n",
       "       [2.72909699, 4.25750224],\n",
       "       [2.73913043, 4.26494801],\n",
       "       [2.74916388, 4.27236515],\n",
       "       [2.75919732, 4.27975383],\n",
       "       [2.76923077, 4.28711423],\n",
       "       [2.77926421, 4.29444652],\n",
       "       [2.78929766, 4.30175087],\n",
       "       [2.7993311 , 4.30902746],\n",
       "       [2.80936455, 4.31627645],\n",
       "       [2.81939799, 4.32349802],\n",
       "       [2.82943144, 4.33069233],\n",
       "       [2.83946488, 4.33785954],\n",
       "       [2.84949833, 4.34499981],\n",
       "       [2.85953177, 4.35211332],\n",
       "       [2.86956522, 4.35920022],\n",
       "       [2.87959866, 4.36626068],\n",
       "       [2.88963211, 4.37329485],\n",
       "       [2.89966555, 4.38030288],\n",
       "       [2.909699  , 4.38728494],\n",
       "       [2.91973244, 4.39424119],\n",
       "       [2.92976589, 4.40117176],\n",
       "       [2.93979933, 4.40807683],\n",
       "       [2.94983278, 4.41495653],\n",
       "       [2.95986622, 4.42181102],\n",
       "       [2.96989967, 4.42864045],\n",
       "       [2.97993311, 4.43544496],\n",
       "       [2.98996656, 4.44222471],\n",
       "       [3.        , 4.44897984]])"
      ]
     },
     "execution_count": 8,
     "metadata": {},
     "output_type": "execute_result"
    }
   ],
   "source": [
    "# Now making array of chi(zT) corresponding to zT \n",
    "\n",
    "chi_T = np.concatenate((zT.reshape(-1,1),y.reshape(-1,1)), axis = 1)\n",
    "chi_T"
   ]
  },
  {
   "cell_type": "code",
   "execution_count": 9,
   "id": "5907f388",
   "metadata": {},
   "outputs": [
    {
     "data": {
      "image/png": "[encoded data removed]",
      "text/plain": [
       "<Figure size 640x480 with 1 Axes>"
      ]
     },
     "metadata": {},
     "output_type": "display_data"
    }
   ],
   "source": [
    "# interpolating array to turn it into a plottable function\n",
    "\n",
    "from scipy.interpolate import interp1d\n",
    "\n",
    "chi_interp = interp1d(zT,y) # interpolation of chi_T \n",
    "\n",
    "chiOfz = chi_interp(zT) #use interpolated function returned by \"interp1d\"\n",
    "\n",
    "\n",
    "# We plot first chi alone to ensure correct functioning\n",
    "\n",
    "plt.plot(zT,chiOfz, \"-\")\n",
    "plt.title(r'Radial comovil distance $\\chi(z)$ ')\n",
    "plt.xlabel(r\"$z$\")\n",
    "plt.ylabel(r\"$\\chi(z)$ [Gpc/h]\")\n",
    "\n",
    "#plt.xlim(0, 3)\n",
    "\n",
    "plt.show()"
   ]
  },
  {
   "cell_type": "code",
   "execution_count": 10,
   "id": "0fe8cf10",
   "metadata": {
    "collapsed": true
   },
   "outputs": [
    {
     "data": {
      "text/plain": [
       "array([0.        , 0.02971333, 0.05870816, 0.08700467, 0.11462233,\n",
       "       0.14157989, 0.16789543, 0.1935864 , 0.21866963, 0.24316136,\n",
       "       0.2670773 , 0.29043261, 0.31324195, 0.33551948, 0.35727892,\n",
       "       0.37853352, 0.39929612, 0.41957914, 0.43939463, 0.45875425,\n",
       "       0.47766929, 0.4961507 , 0.51420912, 0.53185485, 0.54909788,\n",
       "       0.56594791, 0.58241436, 0.59850639, 0.61423286, 0.62960242,\n",
       "       0.64462343, 0.65930406, 0.67365222, 0.68767563, 0.70138176,\n",
       "       0.71477791, 0.72787116, 0.74066843, 0.75317641, 0.76540166,\n",
       "       0.77735054, 0.78902925, 0.80044382, 0.81160014, 0.82250394,\n",
       "       0.83316081, 0.84357618, 0.85375537, 0.86370354, 0.87342575,\n",
       "       0.8829269 , 0.89221181, 0.90128513, 0.91015145, 0.91881521,\n",
       "       0.92728077, 0.93555235, 0.9436341 , 0.95153006, 0.95924418,\n",
       "       0.9667803 , 0.97414218, 0.9813335 , 0.98835784, 0.99521871,\n",
       "       1.00191951, 1.00846361, 1.01485425, 1.02109463, 1.02718786,\n",
       "       1.033137  , 1.03894501, 1.04461481, 1.05014923, 1.05555106,\n",
       "       1.06082302, 1.06596775, 1.07098786, 1.07588588, 1.0806643 ,\n",
       "       1.08532555, 1.08987199, 1.09430595, 1.09862971, 1.10284548,\n",
       "       1.10695543, 1.1109617 , 1.11486636, 1.11867144, 1.12237894,\n",
       "       1.12599081, 1.12950895, 1.13293522, 1.13627146, 1.13951945,\n",
       "       1.14268093, 1.14575762, 1.1487512 , 1.1516633 , 1.15449553,\n",
       "       1.15724946, 1.15992664, 1.16252856, 1.1650567 , 1.16751251,\n",
       "       1.1698974 , 1.17221276, 1.17445994, 1.17664028, 1.17875506,\n",
       "       1.18080558, 1.18279307, 1.18471875, 1.18658384, 1.18838949,\n",
       "       1.19013686, 1.19182708, 1.19346124, 1.19504043, 1.19656572,\n",
       "       1.19803812, 1.19945868, 1.20082837, 1.20214817, 1.20341906,\n",
       "       1.20464195, 1.20581777, 1.20694743, 1.2080318 , 1.20907175,\n",
       "       1.21006813, 1.21102177, 1.21193349, 1.21280408, 1.21363434,\n",
       "       1.21442502, 1.21517689, 1.21589067, 1.2165671 , 1.21720689,\n",
       "       1.21781072, 1.2183793 , 1.21891327, 1.21941331, 1.21988005,\n",
       "       1.22031413, 1.22071617, 1.22108677, 1.22142653, 1.22173603,\n",
       "       1.22201586, 1.22226657, 1.22248871, 1.22268283, 1.22284945,\n",
       "       1.2229891 , 1.22310229, 1.22318952, 1.22325129, 1.22328807,\n",
       "       1.22330034, 1.22328856, 1.2232532 , 1.2231947 , 1.22311349,\n",
       "       1.22301002, 1.2228847 , 1.22273795, 1.22257017, 1.22238178,\n",
       "       1.22217315, 1.22194468, 1.22169674, 1.22142971, 1.22114395,\n",
       "       1.22083981, 1.22051766, 1.22017783, 1.21982067, 1.2194465 ,\n",
       "       1.21905565, 1.21864845, 1.21822521, 1.21778623, 1.21733182,\n",
       "       1.21686228, 1.21637791, 1.21587898, 1.21536578, 1.21483859,\n",
       "       1.21429768, 1.21374332, 1.21317576, 1.21259528, 1.21200211,\n",
       "       1.21139652, 1.21077873, 1.210149  , 1.20950756, 1.20885464,\n",
       "       1.20819047, 1.20751527, 1.20682926, 1.20613265, 1.20542566,\n",
       "       1.2047085 , 1.20398137, 1.20324447, 1.20249799, 1.20174214,\n",
       "       1.20097709, 1.20020305, 1.19942019, 1.19862869, 1.19782873,\n",
       "       1.19702049, 1.19620413, 1.19537983, 1.19454774, 1.19370804,\n",
       "       1.19286088, 1.19200641, 1.1911448 , 1.1902762 , 1.18940074,\n",
       "       1.18851859, 1.18762988, 1.18673475, 1.18583334, 1.1849258 ,\n",
       "       1.18401225, 1.18309282, 1.18216766, 1.18123687, 1.18030059,\n",
       "       1.17935894, 1.17841205, 1.17746002, 1.17650298, 1.17554105,\n",
       "       1.17457433, 1.17360293, 1.17262697, 1.17164656, 1.17066179,\n",
       "       1.16967278, 1.16867961, 1.1676824 , 1.16668125, 1.16567624,\n",
       "       1.16466748, 1.16365505, 1.16263905, 1.16161957, 1.1605967 ,\n",
       "       1.15957053, 1.15854114, 1.15750861, 1.15647304, 1.15543449,\n",
       "       1.15439306, 1.15334881, 1.15230183, 1.1512522 , 1.15019998,\n",
       "       1.14914526, 1.1480881 , 1.14702858, 1.14596676, 1.14490272,\n",
       "       1.14383652, 1.14276823, 1.14169791, 1.14062563, 1.13955145,\n",
       "       1.13847544, 1.13739765, 1.13631815, 1.13523699, 1.13415424,\n",
       "       1.13306994, 1.13198416, 1.13089695, 1.12980836, 1.12871846,\n",
       "       1.12762728, 1.12653489, 1.12544133, 1.12434665, 1.12325091,\n",
       "       1.12215415, 1.12105641, 1.11995775, 1.11885821, 1.11775783,\n",
       "       1.11665667, 1.11555476, 1.11445214, 1.11334886, 1.11224496])"
      ]
     },
     "execution_count": 10,
     "metadata": {},
     "output_type": "execute_result"
    }
   ],
   "source": [
    "# In analogy, defining now the angular distance as a numpy array in terms of chi\n",
    "\n",
    "dist_ang = chiOfz/(1+zT)\n",
    "dist_ang"
   ]
  },
  {
   "cell_type": "code",
   "execution_count": 11,
   "id": "2d8632a7",
   "metadata": {
    "collapsed": true
   },
   "outputs": [
    {
     "data": {
      "text/plain": [
       "array([ 0.        ,  0.03031258,  0.06108798,  0.09232124,  0.12400741,\n",
       "        0.15614155,  0.18871874,  0.22173407,  0.25518264,  0.2890596 ,\n",
       "        0.32336008,  0.35807927,  0.39321236,  0.42875458,  0.46470118,\n",
       "        0.50104744,  0.53778869,  0.57492025,  0.61243751,  0.65033588,\n",
       "        0.68861081,  0.72725778,  0.7662723 ,  0.80564995,  0.8453863 ,\n",
       "        0.885477  ,  0.92591773,  0.9667042 ,  1.00783218,  1.04929745,\n",
       "        1.09109588,  1.13322333,  1.17567576,  1.21844912,  1.26153945,\n",
       "        1.30494279,  1.34865527,  1.39267304,  1.43699229,  1.48160927,\n",
       "        1.52652027,  1.57172162,  1.61720971,  1.66298095,  1.70903183,\n",
       "        1.75535885,  1.80195858,  1.84882763,  1.89596265,  1.94336032,\n",
       "        1.9910174 ,  2.03893067,  2.08709696,  2.13551313,  2.18417611,\n",
       "        2.23308285,  2.28223036,  2.33161567,  2.38123588,  2.43108812,\n",
       "        2.48116954,  2.53147737,  2.58200885,  2.63276127,  2.68373196,\n",
       "        2.7349183 ,  2.78631768,  2.83792756,  2.88974543,  2.94176879,\n",
       "        2.99399522,  3.04642231,  3.09904769,  3.15186903,  3.20488402,\n",
       "        3.25809041,  3.31148598,  3.36506851,  3.41883586,  3.47278589,\n",
       "        3.52691652,  3.58122566,  3.6357113 ,  3.69037143,  3.74520408,\n",
       "        3.80020731,  3.85537921,  3.91071789,  3.9662215 ,  4.02188822,\n",
       "        4.07771626,  4.13370383,  4.1898492 ,  4.24615065,  4.3026065 ,\n",
       "        4.35921508,  4.41597474,  4.47288388,  4.52994091,  4.58714426,\n",
       "        4.6444924 ,  4.70198379,  4.75961695,  4.81739041,  4.87530272,\n",
       "        4.93335244,  4.99153817,  5.04985853,  5.10831215,  5.16689768,\n",
       "        5.2256138 ,  5.28445921,  5.34343261,  5.40253276,  5.46175839,\n",
       "        5.52110827,  5.58058121,  5.640176  ,  5.69989146,  5.75972645,\n",
       "        5.81967981,  5.87975043,  5.93993719,  6.000239  ,  6.06065479,\n",
       "        6.12118349,  6.18182407,  6.24257547,  6.30343671,  6.36440675,\n",
       "        6.42548464,  6.48666938,  6.54796001,  6.60935561,  6.67085522,\n",
       "        6.73245793,  6.79416283,  6.85596903,  6.91787565,  6.97988181,\n",
       "        7.04198666,  7.10418935,  7.16648905,  7.22888494,  7.2913762 ,\n",
       "        7.35396203,  7.41664164,  7.47941425,  7.54227909,  7.60523541,\n",
       "        7.66828246,  7.73141949,  7.79464578,  7.8579606 ,  7.92136326,\n",
       "        7.98485304,  8.04842926,  8.11209123,  8.17583828,  8.23966975,\n",
       "        8.30358498,  8.36758331,  8.43166412,  8.49582676,  8.56007062,\n",
       "        8.62439508,  8.68879953,  8.75328337,  8.81784601,  8.88248686,\n",
       "        8.94720535,  9.01200089,  9.07687294,  9.14182092,  9.2068443 ,\n",
       "        9.27194252,  9.33711506,  9.40236137,  9.46768093,  9.53307323,\n",
       "        9.59853776,  9.664074  ,  9.72968146,  9.79535965,  9.86110807,\n",
       "        9.92692624,  9.99281369, 10.05876994, 10.12479454, 10.19088701,\n",
       "       10.2570469 , 10.32327377, 10.38956717, 10.45592665, 10.52235178,\n",
       "       10.58884214, 10.6553973 , 10.72201683, 10.78870032, 10.85544736,\n",
       "       10.92225755, 10.98913047, 11.05606574, 11.12306296, 11.19012173,\n",
       "       11.25724168, 11.32442242, 11.39166358, 11.45896479, 11.52632567,\n",
       "       11.59374585, 11.66122499, 11.72876272, 11.79635868, 11.86401253,\n",
       "       11.93172393, 11.99949252, 12.06731797, 12.13519995, 12.20313811,\n",
       "       12.27113214, 12.33918171, 12.40728649, 12.47544617, 12.54366042,\n",
       "       12.61192895, 12.68025143, 12.74862756, 12.81705704, 12.88553957,\n",
       "       12.95407485, 13.02266258, 13.09130248, 13.15999425, 13.22873761,\n",
       "       13.29753227, 13.36637796, 13.4352744 , 13.5042213 , 13.57321841,\n",
       "       13.64226544, 13.71136213, 13.78050822, 13.84970344, 13.91894754,\n",
       "       13.98824024, 14.05758131, 14.12697049, 14.19640751, 14.26589215,\n",
       "       14.33542415, 14.40500326, 14.47462925, 14.54430187, 14.6140209 ,\n",
       "       14.68378608, 14.75359719, 14.82345401, 14.89335629, 14.96330381,\n",
       "       15.03329635, 15.10333368, 15.17341558, 15.24354184, 15.31371224,\n",
       "       15.38392655, 15.45418457, 15.52448608, 15.59483088, 15.66521875,\n",
       "       15.73564949, 15.8061229 , 15.87663877, 15.9471969 , 16.01779709,\n",
       "       16.08843914, 16.15912286, 16.22984804, 16.30061451, 16.37142206,\n",
       "       16.44227051, 16.51315966, 16.58408934, 16.65505935, 16.72606951,\n",
       "       16.79711965, 16.86820956, 16.93933909, 17.01050805, 17.08171626,\n",
       "       17.15296354, 17.22424973, 17.29557465, 17.36693813, 17.43834   ,\n",
       "       17.50978009, 17.58125824, 17.65277427, 17.72432803, 17.79591934])"
      ]
     },
     "execution_count": 11,
     "metadata": {},
     "output_type": "execute_result"
    }
   ],
   "source": [
    "# As in the previous case, defining luminosity distance (np.array) in terms of chi\n",
    "\n",
    "dist_lum = chiOfz *(1+zT)\n",
    "dist_lum"
   ]
  },
  {
   "cell_type": "markdown",
   "id": "2ef9557f",
   "metadata": {},
   "source": [
    "## Resulting Plot"
   ]
  },
  {
   "cell_type": "code",
   "execution_count": 12,
   "id": "41c301ca",
   "metadata": {},
   "outputs": [
    {
     "data": {
      "image/png": "[encoded data removed]",
      "text/plain": [
       "<Figure size 640x480 with 1 Axes>"
      ]
     },
     "metadata": {},
     "output_type": "display_data"
    }
   ],
   "source": [
    "# Plotting togheter the three curves\n",
    "\n",
    "plt.plot(zT,chiOfz, 'r-', label=r'Radial comovil distance $\\chi(z)$')\n",
    "plt.plot(zT,dist_ang, 'b-', label=r'Angular distance $D_A(z)$')\n",
    "plt.plot(zT,dist_lum, 'g-', label=r'Luminosity distance $D_L(z)$')\n",
    "\n",
    "\n",
    "plt.title(r'Cosmological distances associated with $\\chi(z)$')\n",
    "plt.xlabel(r\"$z$\")\n",
    "plt.ylabel(r\"Distance [Gpc/h]\")\n",
    "\n",
    "\n",
    "plt.legend(loc='right',bbox_to_anchor=(1.8, 0.5))\n",
    "\n",
    "plt.show()"
   ]
  },
  {
   "cell_type": "markdown",
   "id": "7b34811c",
   "metadata": {},
   "source": [
    "## Ex. 2: Density evolution\n",
    "\n",
    "We consider a cosmological model in which:\n",
    "\n",
    "$$\n",
    "    \\Omega_{m,0} = 0.2999, \\\\\n",
    "\\Omega_{\\Lambda,0} = 0.7, \\\\\n",
    "    \\Omega_{R,0} = 0.0001.\n",
    "$$\n",
    "\n",
    "Make a **plot** with the **evolution of $\\rho_m$** with the time for redshift from $z = 0$ to $z = 10000$. In order to do it, we propose to follow this path:\n",
    "\n",
    "   -1. Determine the **redshift/scale factor of equivalence** $z_{eq}^{\\Lambda,m}$/$a_{eq}^{\\Lambda,m}$ between $\\Omega_\\Lambda$ and $\\Omega_m$\n",
    "    \n",
    "   -2. Determine the **redshift/scale factor of equivalence** $z_{eq}^{R,m}$/$a_{eq}^{R,m}$ between $\\Omega_R$ and $\\Omega_m$\n",
    "   \n",
    "   -3. Determine the **evolution of $a(t)$** for the era of domination of the 3 components\n",
    "   \n",
    "   -4. Determine the **evolution of $\\rho_m(t)$** for the era of domination of the 3 components\n",
    "   \n",
    "   -5. **Convert** the $a_{eq}$ in the corresponding **lookback-time**\n",
    "   \n",
    "   -6. Plot the evolution of $\\rho_m(t)$ with the **time in log-log** scale for the period corresponding to $z=0$ up to $z=10000$ considering the different eras."
   ]
  },
  {
   "cell_type": "code",
   "execution_count": 13,
   "id": "8a26216b",
   "metadata": {},
   "outputs": [],
   "source": [
    "# Specifying Cosmology parameters\n",
    "\n",
    "Omega2_m0 = 0.2999\n",
    "Omega_lambda0 = 0.7\n",
    "Omega_R0 = 0.0001"
   ]
  },
  {
   "cell_type": "markdown",
   "id": "a4021692",
   "metadata": {},
   "source": [
    "We know that the energy densities evolve in $a(t)$ (i.e., consequently in $z$) as\n",
    "\n",
    "$$\n",
    "    \\rho_m(a) = \\frac{\\rho_{m,0}}{a^3},\n",
    "$$\n",
    "\n",
    "$$\n",
    "    \\rho_R(a) = \\frac{\\rho_{R,0}}{a^4},\n",
    "$$\n",
    "\n",
    "$$\n",
    "    \\rho_\\Lambda(a) = \\mbox{const.}\n",
    "$$\n",
    "\n",
    "Hence, the equality between the $\\Lambda$ and $m$ components it's given when $\\rho_\\Lambda(a) = \\rho_m(a)$, i.e.,\n",
    "\n",
    "$$\n",
    "    a_{eq}^{\\Lambda,m} = \\sqrt[3]{\\frac{\\Omega_{m,0}}{\\Omega_{\\Lambda,0}}}\n",
    "$$\n",
    "\n",
    "(since $\\Omega_X = \\frac{\\rho_{X,0}}{\\rho^{cr}_{X,0}}$ for any $X$ component).\n",
    "\n",
    "Analogously, the equality between the $m$ and $R$ components it's given when $\\rho_m(a) = \\rho_R(a)$, i.e.,\n",
    "\n",
    "$$\n",
    "    a_{eq}^{m,R} = \\frac{\\Omega_{R,0}}{\\Omega_{m,0}}.\n",
    "$$"
   ]
  },
  {
   "cell_type": "code",
   "execution_count": 14,
   "id": "8e91c14a",
   "metadata": {},
   "outputs": [
    {
     "name": "stdout",
     "output_type": "stream",
     "text": [
      "The value of the scale factor at the momento of equality between Lambda and m densities is a_eqLm = 0.7538636598815334\n"
     ]
    }
   ],
   "source": [
    "# 1. Computing the value of a_eq between Lambda and matter \n",
    "\n",
    "a_eq_Lm = (Omega2_m0/Omega_lambda0)**(1./3)\n",
    "\n",
    "print('The value of the scale factor at the momento of equality between Lambda and m densities is a_eqLm =', a_eq_Lm)"
   ]
  },
  {
   "cell_type": "markdown",
   "id": "c066cd88",
   "metadata": {},
   "source": [
    "Consequently, the corresponding value of redshift is given by the relation with $a(t)$\n",
    "\n",
    "$$\n",
    "    a(t) = \\frac{1}{1+z},\n",
    "$$\n",
    "\n",
    "which is computed below:"
   ]
  },
  {
   "cell_type": "code",
   "execution_count": 15,
   "id": "5edc2a6f",
   "metadata": {},
   "outputs": [
    {
     "name": "stdout",
     "output_type": "stream",
     "text": [
      "The corresponding redshift is then z_eqLm = 0.32649980787924693\n"
     ]
    }
   ],
   "source": [
    "z_eq_Lm = 1/a_eq_Lm -1\n",
    "print('The corresponding redshift is then z_eqLm =', z_eq_Lm)"
   ]
  },
  {
   "cell_type": "code",
   "execution_count": 16,
   "id": "c7275cbd",
   "metadata": {},
   "outputs": [
    {
     "name": "stdout",
     "output_type": "stream",
     "text": [
      "The equality scale factor between matter and radiation is a_eq_mR = 0.0003334444814938313\n"
     ]
    }
   ],
   "source": [
    "# 2. Accordingly, the scale factor of equivalence between matter and radiation is computed as\n",
    "\n",
    "a_eq_mR = Omega_R0/Omega2_m0\n",
    "print('The equality scale factor between matter and radiation is a_eq_mR =', a_eq_mR)"
   ]
  },
  {
   "cell_type": "code",
   "execution_count": 17,
   "id": "bec0a0f1",
   "metadata": {},
   "outputs": [
    {
     "name": "stdout",
     "output_type": "stream",
     "text": [
      "The corresponding redshift is then z_eq_mR = 2997.9999999999995\n"
     ]
    }
   ],
   "source": [
    "z_eq_mR = 1/a_eq_mR -1\n",
    "print('The corresponding redshift is then z_eq_mR =', z_eq_mR)"
   ]
  },
  {
   "cell_type": "markdown",
   "id": "1a15f17a",
   "metadata": {},
   "source": [
    "### 3.\n",
    "It is known that the evolution of the scale factor $a(t)$ is, taking as an ansatz for matter and radiation domination a power law $a \\propto t^n$,\n",
    "\n",
    "$$\n",
    "    a(t) = a_0 t^{\\frac{2}{3(1+\\omega)}},\n",
    "$$\n",
    "\n",
    "since $\\rho \\propto a^{-3(1+\\omega)}$, and from Friedmann eq. $\\left( \\frac{\\dot{a}}{a} \\right)^2 = \\frac{8 \\pi G}{3}\\rho \\propto t^{-2}$, i.e., $\\rho \\propto t^{-3(1+\\omega)n}$, which leads to $n = \\frac{2}{3(1+\\omega)}$.\n",
    "\n",
    "That means, having in mind the value of the state parameter $\\omega$ for the case of matter and radiation domain, we have, respectively,\n",
    "\n",
    "\n",
    "$$\n",
    "    \\mbox{Matter (dust): } p=0, \\ i.e., \\ \\omega_m = 0, \\Rightarrow \\boxed{a(t) \\propto t^{2/3}}, \n",
    "$$\n",
    "\n",
    "$$\n",
    "    \\mbox{Radiation: } p=\\frac{1}{3}\\rho, \\ i.e., \\ \\omega_R = \\frac{1}{3}, \\Rightarrow \\boxed{a(t) \\propto t^{1/2}}.\n",
    "$$\n",
    "\n",
    "\n",
    "On the other hand, for cosmological constant domination, when $\\rho_\\Lambda = const.$,\n",
    "\n",
    "$$\n",
    "    \\left( \\frac{\\dot{a}}{a} \\right)^2 = H \\mbox{ (const.)} \\ \\Rightarrow a(t) \\propto exp^{H \\ \\ t}.\n",
    "$$\n",
    "\n",
    "From Friedmann eq. we know $H^2\\equiv (\\dot{a}/a)^2 = 8\\pi G/3 \\, \\rho_\\Lambda \\ \\ (k=0)$.\n",
    "\n",
    "Thus,\n",
    "\n",
    "$$\n",
    "    \\boxed{a(t) \\propto e^{\\sqrt{\\frac{8\\pi G}{3}\\rho_\\Lambda}\\ t}}.\n",
    "$$"
   ]
  },
  {
   "cell_type": "markdown",
   "id": "50334d80",
   "metadata": {},
   "source": [
    "In addition, one can express the coefficient of $t$ in the exponent in  different form since the next analysis:\n",
    "\n",
    "$$\\sqrt{\\frac{8\\pi G}{3}\\rho_\\Lambda},$$\n",
    "\n",
    "with $\\rho_\\Lambda = \\rho_\\Lambda^0$ (const.), so $\\rho_\\Lambda^0 = \\Omega_\\Lambda \\rho_{cr}^0$,\n",
    "\n",
    "but, by definition, $ \\rho_{cr}^0 \\equiv \\frac{3H_0^2}{8\\pi G}$. Consequently,\n",
    "\n",
    "$$\n",
    "    \\sqrt{\\frac{8\\pi G}{3}\\rho_\\Lambda} = \\sqrt{\\frac{8\\pi G}{3}\\left( \\frac{\\Omega_\\Lambda 3H_0^2}{8\\pi G} \\right)} = H_0 \\sqrt{\\Omega_\\Lambda} \\simeq 0.83666 H_0.\n",
    "$$\n",
    "\n",
    "In conclusion, $$  \\mbox{Cosmolog. Const. }(\\Lambda):\\ p=-\\rho, \\ i.e., \\ \\omega_\\Lambda = -1, \\Rightarrow\\boxed{a(t) \\propto \\, e^{\\sqrt{\\Omega_\\Lambda}H_0 \\ t}}. $$"
   ]
  },
  {
   "cell_type": "markdown",
   "id": "8a28be92",
   "metadata": {},
   "source": [
    "## 4.\n",
    "### Evolution of 𝜌𝑚(t) for the era of dom. of the 3 comps.\n",
    "\n",
    "From the previous result, it's possible to determine the expression for $\\rho_m(t)$ for the domain of each component, substituting the resulting expression of $a(t)$ as follows."
   ]
  },
  {
   "cell_type": "markdown",
   "id": "041056f1",
   "metadata": {},
   "source": [
    "We know from item 2) that the evolution of $\\rho_m(a)$ (normalized with  the critical density today $\\rho_{cr}^0$) is\n",
    "\n",
    "$$\n",
    "    \\rho_m(a) = \\frac{\\rho_{m,0}}{a^3} = \\frac{\\Omega_m \\rho_{cr}^0}{a^3}, \\Rightarrow \\boxed{ \\rho_m(a)/\\rho_{cr}^0 =  \\frac{\\Omega_m}{a^3} }\n",
    "$$\n",
    "\n",
    "then \n",
    "\n",
    "in matter domain: $\\rho_m(t)/\\rho_{cr}^0 = \\frac{\\Omega_m}{a^3(t)} = \\frac{\\Omega_m}{(t^{2/3})^3} = \\boxed{\\frac{\\Omega_m}{t^2}}$,\n",
    "\n",
    "in radiation domain: $\\rho_m(t) / \\rho_{cr}^0= \\frac{\\Omega_m}{a^3(t)} = \\frac{\\Omega_m}{(t^{1/2})^3} = \\boxed{\\frac{\\Omega_m}{t^{3/2}}}$,\n",
    "\n",
    "in CC domain: $\\rho_m(t)/ \\rho_{cr}^0= \\frac{\\Omega_m}{a^3(t)} = \\frac{\\Omega_m}{\\left(e^{\\sqrt{\\Omega_\\Lambda}H_0 \\, t}\\right)^3} = \\boxed{\\Omega_m e^{-3\\sqrt{\\Omega_\\Lambda}H_0 \\, t}}$."
   ]
  },
  {
   "cell_type": "markdown",
   "id": "c4cf874a",
   "metadata": {},
   "source": [
    "### 5.\n",
    "Converting the value of the scale factor of equality $a(t)_{eq}$ (of every case) into lookback-time, i.e., the time it took a light signal to travel from the moment it was emitted in the past until now (the variable of time commonly used in Physics $t$), is equivalent to compute the integral from $z=0$ (now) to the redshift $z_{eq}$, through the equation following\n",
    "\n",
    "$$\n",
    "    t_L = t_H \\int_0^z \\frac{dz'}{(1+z') E(z')},\n",
    "$$\n",
    "\n",
    "where $t_H \\equiv \\frac{1}{H_0}$ is the *Hubble time* and $E(z) = H(z)/H_0 = \\sqrt{\\Omega_{m,0}(1+z)^3 +\\Omega_{R,0}(1+z)^4 +\\Omega_{\\Lambda,0}}$, so\n",
    "\n",
    "$$\n",
    "    t_L^{eq} = \\frac{1}{H_0}  \\int_0^{z_{eq}} \\frac{dz'}{(1+z') \\sqrt{\\Omega_{m,0}(1+z')^3 +\\Omega_{R,0}(1+z')^4 + \\Omega_{\\Lambda,0}} }.\n",
    "$$\n"
   ]
  },
  {
   "cell_type": "code",
   "execution_count": 18,
   "id": "6f3a6b97",
   "metadata": {},
   "outputs": [
    {
     "name": "stdout",
     "output_type": "stream",
     "text": [
      "The corresponding lookbacktime of the equality moments (scale factor a(t) & redshift z) in units of Gpc/h are\n",
      "t_eq_Lm = 0.7851419982614096  and t_eq_mR = 2.8892264857588796\n"
     ]
    }
   ],
   "source": [
    "# Then defining the integrand (1+z')E(z') as a new function and then the integral t_lookback(z)\n",
    "\n",
    "def integrand_lookbackt(z):\n",
    "    return 1/(H_0*(1+z)*math.sqrt(Omega2_m0*(1+z)**3 + Omega_R0*(1+z)**4 + Omega_lambda0))\n",
    "\n",
    "from scipy.integrate import quad\n",
    "# call quad to integrate function from z=0 to z_eq between Lambda & matter\n",
    "\n",
    "t_lookback_eqLm, err = quad(integrand_lookbackt, 0, z_eq_Lm)\n",
    "\n",
    "# Now in a similar way, we compute the equivalent lookback time for equiv. between matter & radiation\n",
    "t_lookback_eqmR, err = quad(integrand_lookbackt, 0, z_eq_mR)\n",
    "\n",
    "#t_lookback_eqmR = integrate(lambda zz: integrand_lookbackt(zz), (zz, 0, z_eq_mR))\n",
    "\n",
    "print('The corresponding lookbacktime of the equality moments (scale factor a(t) & redshift z) in units of Gpc/h are')\n",
    "print('t_eq_Lm =', t_lookback_eqLm, ' and t_eq_mR =', t_lookback_eqmR)"
   ]
  },
  {
   "cell_type": "code",
   "execution_count": 22,
   "id": "230f7989",
   "metadata": {},
   "outputs": [
    {
     "name": "stdout",
     "output_type": "stream",
     "text": [
      "t_eq_Lm = 8.047705482179448e+16 , t_eq_mR = 2.961457147902852e+17 (in sec/h)\n"
     ]
    }
   ],
   "source": [
    "# That means, in seconds over h those quantities are equivalent to\n",
    "t_eq_Lm = t_lookback_eqLm*1.025e+17\n",
    "t_eq_mR = t_lookback_eqmR*1.025e+17\n",
    "\n",
    "print('t_eq_Lm =', t_eq_Lm, ', t_eq_mR =', t_eq_mR, '(in sec/h)')"
   ]
  },
  {
   "cell_type": "markdown",
   "id": "954377db",
   "metadata": {},
   "source": [
    "### 6.\n",
    "Plot the evolution of $\\rho_m(t)$ with t in log-log scale for the period z=0 - 10000, considering the different eras.\n",
    "\n",
    "$$\n",
    " \\rho_m(a)/\\rho_{cr}^0 =  \\frac{\\Omega_m}{a^3} \\ \\ \\Rightarrow \\qquad  \\rho_m(t)/\\rho_{cr}^0 = \\left\\{\n",
    "    \\begin{array}\\\\\n",
    "        \\frac{\\Omega_m}{t^2} & \\mbox{(mat)}\\\\\n",
    "        \\frac{\\Omega_m}{t^{3/2}} & \\mbox{(rad)}\\\\\n",
    "        \\Omega_m e^{-3\\sqrt{\\Omega_\\Lambda}H_0 \\, t} & \\mbox{(CC)}\n",
    "    \\end{array}\n",
    "\\right.\n",
    "$$\n"
   ]
  },
  {
   "cell_type": "code",
   "execution_count": 20,
   "id": "c2829bca",
   "metadata": {},
   "outputs": [
    {
     "name": "stdout",
     "output_type": "stream",
     "text": [
      "t(z=0) = 0.0 s/h,  t(z=10 000) = 2.961469086253558e+17 s/h\n"
     ]
    }
   ],
   "source": [
    "# First, converting the values of z (0 & 10,000) into time variable by means of the same integral of lookback time\n",
    "\n",
    "t_0, err = quad(integrand_lookbackt, 0, 0) # this result is quite obvious that is 0 itself, but is calculated for completeness\n",
    "\n",
    "t_10000, err = quad(integrand_lookbackt, 0, 10000)\n",
    "\n",
    "print('t(z=0) =',t_0*1.025e+17, 's/h,', ' t(z=10 000) =', t_10000*1.025e+17,'s/h')"
   ]
  },
  {
   "cell_type": "code",
   "execution_count": 46,
   "id": "a12e3e58",
   "metadata": {},
   "outputs": [
    {
     "name": "stdout",
     "output_type": "stream",
     "text": [
      "7.3503372326502014e-09 1.2809614137363295e-34\n"
     ]
    }
   ],
   "source": [
    "# NOTICE the constant H_0 also has to be chnged, i.e., converted from h/Gpc to h/seconds\n",
    "H_0_s = H_0/1.025e+17              # in seconds\n",
    "\n",
    "# now we are going to calculate the initial constant of rho_m for radiation and CC\n",
    "                                        #in order to get them in the equality time\n",
    "\n",
    "\n",
    "a_0 = (t_eq_mR/2)**(-2)/(t_eq_mR)**(-3/2)   # 9.7e-9\n",
    "a_0_CC = (t_eq_mR)**(-2)/(math.exp(-3*math.sqrt(Omega_lambda0)*H_0_s*(t_eq_mR)))  # 1.98e-35\n",
    "\n",
    "print(a_0,a_0_CC)"
   ]
  },
  {
   "cell_type": "code",
   "execution_count": 47,
   "id": "dab5c325",
   "metadata": {},
   "outputs": [],
   "source": [
    "# Defining each functional form of rho_m\n",
    "\n",
    "# Matter\n",
    "def dens_matt(t):\n",
    "    return Omega2_m0/t**2\n",
    "\n",
    "# Rad\n",
    "def dens_rad(t):\n",
    "    return 9.7e-9*Omega2_m0 / t**(3/2)\n",
    "    \n",
    "# CC\n",
    "def dens_CC(t):\n",
    "    return a_0_CC*Omega2_m0*np.exp(-3*np.sqrt(Omega_lambda0)*H_0_s*t)"
   ]
  },
  {
   "cell_type": "code",
   "execution_count": 48,
   "id": "095bfceb",
   "metadata": {},
   "outputs": [
    {
     "data": {
      "text/plain": [
       "3.072872715e+17"
      ]
     },
     "execution_count": 48,
     "metadata": {},
     "output_type": "execute_result"
    }
   ],
   "source": [
    "convertion_Gpc_s = 1.025e+17\n",
    "t_H = 1/(H_0/convertion_Gpc_s)\n",
    "t_H"
   ]
  },
  {
   "cell_type": "code",
   "execution_count": 49,
   "id": "799e6d75",
   "metadata": {},
   "outputs": [],
   "source": [
    "# That means that if we want to show this evolution in the common time variable t (not lookback-time)\n",
    "# we just have to make the difference with the age of the universe t_H\n",
    "\n",
    "time_hoy = t_H\n",
    "timeEq_Lm = t_H - t_lookback_eqLm*convertion_Gpc_s\n",
    "timeEq_mR = t_H - t_lookback_eqmR*convertion_Gpc_s\n",
    "time_z10000 = t_H - t_10000*convertion_Gpc_s"
   ]
  },
  {
   "cell_type": "code",
   "execution_count": 50,
   "id": "0524fc62",
   "metadata": {},
   "outputs": [
    {
     "name": "stdout",
     "output_type": "stream",
     "text": [
      "2.268102166782055e+17\n",
      "1.1141556709714816e+16\n",
      "1.1140362874644224e+16\n"
     ]
    }
   ],
   "source": [
    "print(timeEq_Lm)\n",
    "print(timeEq_mR)\n",
    "print(time_z10000)"
   ]
  },
  {
   "cell_type": "code",
   "execution_count": 51,
   "id": "3ac316b3",
   "metadata": {},
   "outputs": [],
   "source": [
    "time_tot = np.linspace(9.00e+15,3.072872715e+17,10000,endpoint= True)\n",
    "\n",
    "y_dens_rad = dens_rad(time_tot)\n",
    "y_dens_matt = dens_matt(time_tot)\n",
    "y_dens_CCosm = dens_CC(time_tot)"
   ]
  },
  {
   "cell_type": "code",
   "execution_count": 52,
   "id": "9d9a61d2",
   "metadata": {},
   "outputs": [
    {
     "data": {
      "image/png": "[encoded data removed]",
      "text/plain": [
       "<Figure size 1000x680 with 1 Axes>"
      ]
     },
     "metadata": {},
     "output_type": "display_data"
    }
   ],
   "source": [
    "plt.loglog(time_tot, y_dens_rad, 'b-', label=r'for $a_R(t)$')\n",
    "plt.loglog(time_tot, y_dens_matt, 'r-', label=r'for $a_m(t)$')\n",
    "plt.loglog(time_tot, y_dens_CCosm, 'g-', label=r'for $a_\\Lambda(t)$')\n",
    "\n",
    "font1 = {'family':'serif','color':'blue','size':20}\n",
    "font2 = {'family':'serif','color':'darkred','size':15}\n",
    "\n",
    "plt.title(r'Energy density of matter (for each dominant component)', fontdict = font1)\n",
    "plt.xlabel(r\"$t \\ [s/h]$\", fontdict = font2)\n",
    "plt.ylabel(r\"$\\rho_m(t) / \\rho_{cr}^0$ \", fontdict = font2)\n",
    "plt.grid()\n",
    "plt.xlim(1e+16)\n",
    "\n",
    "plt.legend(loc='right',bbox_to_anchor=(1.3, 0.5),fontsize = 'xx-large')\n",
    "plt.rcParams[\"figure.figsize\"] = (10,6.8)\n",
    "\n",
    "plt.show()"
   ]
  },
  {
   "cell_type": "code",
   "execution_count": 53,
   "id": "87b16625",
   "metadata": {},
   "outputs": [],
   "source": [
    "# from time_z10000 to time_eq_Matter-Rad\n",
    "time1 = np.linspace(5.1140362874644224e+15,1.1141556709714816e+16,10000,endpoint= True)\n",
    "\n",
    "# from time_eq_Matter-Rad to time_eq_Lambda-Matter\n",
    "time2 = np.linspace(1.1141556709714816e+16,2.268102166782055e+17,10000,endpoint= True)\n",
    "\n",
    "# from time_eq_Lambda-Matter to t_H (today)\n",
    "time3 = np.linspace(2.268102166782055e+17,3.073872715e+17,10000,endpoint= True)"
   ]
  },
  {
   "cell_type": "code",
   "execution_count": 54,
   "id": "29687abc",
   "metadata": {},
   "outputs": [],
   "source": [
    "# defining them again as function of this time intervals\n",
    "\n",
    "y_rad = dens_rad(time1)\n",
    "y_matt = dens_matt(time2)\n",
    "y_CCosm = dens_CC(time3)"
   ]
  },
  {
   "cell_type": "code",
   "execution_count": 55,
   "id": "7029fdd9",
   "metadata": {},
   "outputs": [
    {
     "data": {
      "image/png": "[encoded data removed]",
      "text/plain": [
       "<Figure size 1000x680 with 1 Axes>"
      ]
     },
     "metadata": {},
     "output_type": "display_data"
    }
   ],
   "source": [
    "# Plotting togheter the three curves\n",
    "\n",
    "plt.loglog(time1, y_rad, 'b-', label=r'for $a_R(t)$')\n",
    "plt.loglog(time2, y_matt, 'r-', label=r'for $a_m(t)$')\n",
    "plt.loglog(time3, y_CCosm, 'g-', label=r'for $a_\\Lambda(t)$')\n",
    "\n",
    "font1 = {'family':'serif','color':'blue','size':20}\n",
    "font2 = {'family':'serif','color':'darkred','size':15}\n",
    "\n",
    "plt.title(r'Energy density of matter (for each dominant component)', fontdict = font1)\n",
    "plt.xlabel(r\"$t \\ [s/h]$\", fontdict = font2)\n",
    "plt.ylabel(r\"$\\rho_m(t) / \\rho_{cr}^0$ \", fontdict = font2)\n",
    "plt.grid()\n",
    "plt.ylim(2e-36,5e-31)\n",
    "\n",
    "plt.legend(loc='right',bbox_to_anchor=(1.3, 0.5),fontsize = 'xx-large')\n",
    "plt.rcParams[\"figure.figsize\"] = (10,6.8)\n",
    "\n",
    "plt.show()"
   ]
  },
  {
   "cell_type": "code",
   "execution_count": null,
   "id": "c75762a5",
   "metadata": {},
   "outputs": [],
   "source": []
  }
 ],
 "metadata": {
  "kernelspec": {
   "display_name": "Python 3 (ipykernel)",
   "language": "python",
   "name": "python3"
  },
  "language_info": {
   "codemirror_mode": {
    "name": "ipython",
    "version": 3
   },
   "file_extension": ".py",
   "mimetype": "text/x-python",
   "name": "python",
   "nbconvert_exporter": "python",
   "pygments_lexer": "ipython3",
   "version": "3.9.13"
  }
 },
 "nbformat": 4,
 "nbformat_minor": 5
}
